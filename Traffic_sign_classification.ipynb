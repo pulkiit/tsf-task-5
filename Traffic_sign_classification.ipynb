{
  "nbformat": 4,
  "nbformat_minor": 0,
  "metadata": {
    "colab": {
      "name": "Traffic sign classification.ipynb",
      "provenance": [],
      "collapsed_sections": []
    },
    "kernelspec": {
      "name": "python3",
      "display_name": "Python 3"
    },
    "language_info": {
      "name": "python"
    }
  },
  "cells": [
    {
      "cell_type": "markdown",
      "source": [
        "# **Sparks Foundation - Graduate Rotational Internship Program (GRIP)**\n",
        "\n",
        "# **Computer Vision & Internet of Things (IoT)**\n",
        "\n",
        "# **Task-5: Traffic Sign Classification/Recognition System**\n",
        "\n",
        "# **Dataset link:** https://www.kaggle.com/meowmeowmeowmeowmeow/gtsrb-german-traffic-sign\n",
        "\n",
        "# **Done by: Pulkit Singh** "
      ],
      "metadata": {
        "id": "WIFc3aCPSVNo"
      }
    },
    {
      "cell_type": "markdown",
      "source": [
        "**Importing necessary libraries**"
      ],
      "metadata": {
        "id": "P6aDoMOISU7V"
      }
    },
    {
      "cell_type": "code",
      "execution_count": null,
      "metadata": {
        "id": "BwcWyoJXHdmo",
        "colab": {
          "base_uri": "https://localhost:8080/"
        },
        "outputId": "114cfa06-163c-413a-ab92-32a3964534ba"
      },
      "outputs": [
        {
          "output_type": "stream",
          "name": "stdout",
          "text": [
            "`%tensorflow_version` only switches the major version: 1.x or 2.x.\n",
            "You set: `1.5`. This will be interpreted as: `1.x`.\n",
            "\n",
            "\n",
            "TensorFlow 1.x selected.\n"
          ]
        },
        {
          "output_type": "stream",
          "name": "stderr",
          "text": [
            "Using TensorFlow backend.\n"
          ]
        }
      ],
      "source": [
        "import numpy as np\n",
        "import pandas as pd\n",
        "import matplotlib.pyplot as plt\n",
        "import cv2\n",
        "%tensorflow_version 1.5\n",
        "import tensorflow as tf\n",
        "from PIL import Image\n",
        "from sklearn.model_selection import train_test_split\n",
        "from tensorflow.keras.utils import to_categorical\n",
        "from keras.models import Sequential, load_model\n",
        "from keras.layers import Conv2D, MaxPool2D, Dense, Flatten, Dropout\n",
        "import os\n",
        "os.chdir('/content/drive/MyDrive/Traffic_Sign_Recognition')"
      ]
    },
    {
      "cell_type": "markdown",
      "source": [
        "**Pre-processing the dataset images**"
      ],
      "metadata": {
        "id": "1ywhqzTrTLXZ"
      }
    },
    {
      "cell_type": "code",
      "source": [
        "data =[]\n",
        "labels = []\n",
        "classes =43 \n",
        "cur_path = os.getcwd()\n",
        "for i in range(classes):     \n",
        "    path = os.path.join(cur_path,'Train',str(i))     \n",
        "    images = os.listdir(path)\n",
        "    for a in images:\n",
        "        try:             \n",
        "            image = Image.open(path +'/'+ a)             \n",
        "            image = image.resize((30,30))                                                 \n",
        "            image =np.array(image)             \n",
        "            data.append(image)             \n",
        "            labels.append(i)\n",
        "        except Exception as e:\n",
        "            print(e)"
      ],
      "metadata": {
        "id": "ZbRE-0blOGRK"
      },
      "execution_count": null,
      "outputs": []
    },
    {
      "cell_type": "markdown",
      "source": [
        "**Converting images to NumPy Arrays & Saving them for future use**"
      ],
      "metadata": {
        "id": "SkY80VhxT7w2"
      }
    },
    {
      "cell_type": "code",
      "source": [
        "data = np.array(data) \n",
        "labels = np.array(labels)\n",
        "np.save('./training/data',data)\n",
        "np.save('./training/target',labels)\n",
        "print(data.shape, labels.shape) "
      ],
      "metadata": {
        "colab": {
          "base_uri": "https://localhost:8080/"
        },
        "id": "IZi09H80QDDS",
        "outputId": "031baee4-8332-4f8f-922f-d6aa26bb8cc8"
      },
      "execution_count": null,
      "outputs": [
        {
          "output_type": "stream",
          "name": "stdout",
          "text": [
            "(39219, 30, 30, 3) (39219,)\n"
          ]
        }
      ]
    },
    {
      "cell_type": "markdown",
      "source": [
        "**Split into training and testing data**"
      ],
      "metadata": {
        "id": "Q-DawxyxUElu"
      }
    },
    {
      "cell_type": "code",
      "source": [
        "X_train, X_test, y_train, y_test =train_test_split(data, labels, test_size=0.2, random_state=0)\n",
        "print(X_train.shape, X_test.shape, y_train.shape, y_test.shape) "
      ],
      "metadata": {
        "colab": {
          "base_uri": "https://localhost:8080/"
        },
        "id": "lvlTAM__jc6e",
        "outputId": "5b69ada3-f787-40ff-8d79-153316f3d912"
      },
      "execution_count": null,
      "outputs": [
        {
          "output_type": "stream",
          "name": "stdout",
          "text": [
            "(31375, 30, 30, 3) (7844, 30, 30, 3) (31375,) (7844,)\n"
          ]
        }
      ]
    },
    {
      "cell_type": "markdown",
      "source": [
        "**Converting labels into single encoding**"
      ],
      "metadata": {
        "id": "HjCIK-p1W1Bk"
      }
    },
    {
      "cell_type": "code",
      "source": [
        "y_train = to_categorical(y_train,43) \n",
        "y_test = to_categorical(y_test,43)"
      ],
      "metadata": {
        "id": "gsWpNW42jjKZ"
      },
      "execution_count": null,
      "outputs": []
    },
    {
      "cell_type": "markdown",
      "source": [
        "**Building Model**"
      ],
      "metadata": {
        "id": "Xuw0MKCDW8Lg"
      }
    },
    {
      "cell_type": "code",
      "source": [
        "model = Sequential() \n",
        "model.add(Conv2D(filters=32, kernel_size=(5,5), activation='relu', input_shape=X_train.shape[1:])) \n",
        "model.add(Conv2D(filters=32, kernel_size=(5,5), activation='relu')) \n",
        "model.add(MaxPool2D(pool_size=(2,2))) \n",
        "model.add(Dropout(rate=0.25)) \n",
        "model.add(Conv2D(filters=64, kernel_size=(3,3), activation='relu')) \n",
        "model.add(Conv2D(filters=64, kernel_size=(3,3), activation='relu')) \n",
        "model.add(MaxPool2D(pool_size=(2,2))) \n",
        "model.add(Dropout(rate=0.25)) \n",
        "model.add(Flatten()) \n",
        "model.add(Dense(256, activation='relu')) \n",
        "model.add(Dropout(rate=0.5))\n",
        "model.add(Dense(43, activation='softmax')) #Because we use 43 classes\n"
      ],
      "metadata": {
        "colab": {
          "base_uri": "https://localhost:8080/"
        },
        "id": "d-kkydOrjpQI",
        "outputId": "82983b44-32b9-4924-beb1-9eae72fa35be"
      },
      "execution_count": null,
      "outputs": [
        {
          "output_type": "stream",
          "name": "stdout",
          "text": [
            "WARNING:tensorflow:From /tensorflow-1.15.2/python3.7/tensorflow_core/python/ops/resource_variable_ops.py:1630: calling BaseResourceVariable.__init__ (from tensorflow.python.ops.resource_variable_ops) with constraint is deprecated and will be removed in a future version.\n",
            "Instructions for updating:\n",
            "If using Keras pass *_constraint arguments to layers.\n",
            "WARNING:tensorflow:From /tensorflow-1.15.2/python3.7/keras/backend/tensorflow_backend.py:4070: The name tf.nn.max_pool is deprecated. Please use tf.nn.max_pool2d instead.\n",
            "\n"
          ]
        }
      ]
    },
    {
      "cell_type": "markdown",
      "source": [
        "**Compiling & Training the model**"
      ],
      "metadata": {
        "id": "zDEGMB80XSIe"
      }
    },
    {
      "cell_type": "code",
      "source": [
        "model.compile(loss='categorical_crossentropy', optimizer='adam', metrics=['accuracy']) \n",
        "epochs = 20 \n",
        "history = model.fit(X_train, y_train, batch_size=32, epochs=epochs, validation_data=(X_test, y_test))"
      ],
      "metadata": {
        "colab": {
          "base_uri": "https://localhost:8080/"
        },
        "id": "AfpnqLpWjvBD",
        "outputId": "15215de2-c837-4187-80dd-1161df1736e4"
      },
      "execution_count": null,
      "outputs": [
        {
          "output_type": "stream",
          "name": "stdout",
          "text": [
            "WARNING:tensorflow:From /tensorflow-1.15.2/python3.7/keras/backend/tensorflow_backend.py:422: The name tf.global_variables is deprecated. Please use tf.compat.v1.global_variables instead.\n",
            "\n",
            "Train on 31375 samples, validate on 7844 samples\n",
            "Epoch 1/20\n",
            "31375/31375 [==============================] - 159s 5ms/step - loss: 2.1662 - accuracy: 0.4544 - val_loss: 0.6406 - val_accuracy: 0.8349\n",
            "Epoch 2/20\n",
            "31375/31375 [==============================] - 159s 5ms/step - loss: 0.7824 - accuracy: 0.7640 - val_loss: 0.2195 - val_accuracy: 0.9445\n",
            "Epoch 3/20\n",
            "31375/31375 [==============================] - 162s 5ms/step - loss: 0.4586 - accuracy: 0.8607 - val_loss: 0.1608 - val_accuracy: 0.9565\n",
            "Epoch 4/20\n",
            "31375/31375 [==============================] - 159s 5ms/step - loss: 0.3495 - accuracy: 0.8979 - val_loss: 0.1934 - val_accuracy: 0.9440\n",
            "Epoch 5/20\n",
            "31375/31375 [==============================] - 158s 5ms/step - loss: 0.2791 - accuracy: 0.9195 - val_loss: 0.0693 - val_accuracy: 0.9796\n",
            "Epoch 6/20\n",
            "31375/31375 [==============================] - 157s 5ms/step - loss: 0.2590 - accuracy: 0.9244 - val_loss: 0.0642 - val_accuracy: 0.9809\n",
            "Epoch 7/20\n",
            "31375/31375 [==============================] - 158s 5ms/step - loss: 0.2275 - accuracy: 0.9347 - val_loss: 0.0722 - val_accuracy: 0.9779\n",
            "Epoch 8/20\n",
            "31375/31375 [==============================] - 157s 5ms/step - loss: 0.2270 - accuracy: 0.9354 - val_loss: 0.0520 - val_accuracy: 0.9862\n",
            "Epoch 9/20\n",
            "31375/31375 [==============================] - 157s 5ms/step - loss: 0.2315 - accuracy: 0.9356 - val_loss: 0.0488 - val_accuracy: 0.9857\n",
            "Epoch 10/20\n",
            "31375/31375 [==============================] - 157s 5ms/step - loss: 0.2181 - accuracy: 0.9388 - val_loss: 0.0445 - val_accuracy: 0.9867\n",
            "Epoch 11/20\n",
            "31375/31375 [==============================] - 157s 5ms/step - loss: 0.2084 - accuracy: 0.9426 - val_loss: 0.0621 - val_accuracy: 0.9818\n",
            "Epoch 12/20\n",
            "31375/31375 [==============================] - 157s 5ms/step - loss: 0.2364 - accuracy: 0.9368 - val_loss: 0.0379 - val_accuracy: 0.9885\n",
            "Epoch 13/20\n",
            "31375/31375 [==============================] - 157s 5ms/step - loss: 0.1982 - accuracy: 0.9467 - val_loss: 0.0362 - val_accuracy: 0.9902\n",
            "Epoch 14/20\n",
            "31375/31375 [==============================] - 157s 5ms/step - loss: 0.1964 - accuracy: 0.9473 - val_loss: 0.0483 - val_accuracy: 0.9869\n",
            "Epoch 15/20\n",
            "31375/31375 [==============================] - 157s 5ms/step - loss: 0.2164 - accuracy: 0.9452 - val_loss: 0.0676 - val_accuracy: 0.9809\n",
            "Epoch 16/20\n",
            "31375/31375 [==============================] - 157s 5ms/step - loss: 0.2045 - accuracy: 0.9449 - val_loss: 0.0521 - val_accuracy: 0.9866\n",
            "Epoch 17/20\n",
            "31375/31375 [==============================] - 158s 5ms/step - loss: 0.2240 - accuracy: 0.9440 - val_loss: 0.0605 - val_accuracy: 0.9847\n",
            "Epoch 18/20\n",
            "31375/31375 [==============================] - 159s 5ms/step - loss: 0.2112 - accuracy: 0.9455 - val_loss: 0.0578 - val_accuracy: 0.9833\n",
            "Epoch 19/20\n",
            "31375/31375 [==============================] - 159s 5ms/step - loss: 0.2090 - accuracy: 0.9474 - val_loss: 0.0808 - val_accuracy: 0.9760\n",
            "Epoch 20/20\n",
            "31375/31375 [==============================] - 159s 5ms/step - loss: 0.2197 - accuracy: 0.9443 - val_loss: 0.0541 - val_accuracy: 0.9853\n"
          ]
        }
      ]
    },
    {
      "cell_type": "markdown",
      "source": [
        "**Plotting accuracy of the model**"
      ],
      "metadata": {
        "id": "83qf0lmCXbJC"
      }
    },
    {
      "cell_type": "code",
      "source": [
        "plt.figure(0)\n",
        "plt.plot(history.history['accuracy'], label='training accuracy')\n",
        "plt.plot(history.history['val_accuracy'], label='val accuracy')\n",
        "plt.title('Accuracy')\n",
        "plt.xlabel('epochs')\n",
        "plt.ylabel('accuracy')\n",
        "plt.legend()\n",
        "plt.show()"
      ],
      "metadata": {
        "colab": {
          "base_uri": "https://localhost:8080/",
          "height": 295
        },
        "id": "dHf3ct22ojDB",
        "outputId": "91eab5e5-e4df-4326-b6d7-98e3129e28cf"
      },
      "execution_count": null,
      "outputs": [
        {
          "output_type": "display_data",
          "data": {
            "image/png": "[encoded data removed]",
            "text/plain": [
              "<Figure size 432x288 with 1 Axes>"
            ]
          },
          "metadata": {
            "needs_background": "light"
          }
        }
      ]
    },
    {
      "cell_type": "markdown",
      "source": [
        "**Plotting loss of the model**"
      ],
      "metadata": {
        "id": "6ouxPTRFXiHv"
      }
    },
    {
      "cell_type": "code",
      "source": [
        "plt.plot(history.history['loss'], label='training loss')\n",
        "plt.plot(history.history['val_loss'], label='val loss')\n",
        "plt.title('Loss')\n",
        "plt.xlabel('epochs')\n",
        "plt.ylabel('loss')\n",
        "plt.legend()\n",
        "plt.show()"
      ],
      "metadata": {
        "colab": {
          "base_uri": "https://localhost:8080/",
          "height": 295
        },
        "id": "UUqlOcHCo8Ro",
        "outputId": "dcd1e8cf-c977-48c6-e136-6b1a0f704813"
      },
      "execution_count": null,
      "outputs": [
        {
          "output_type": "display_data",
          "data": {
            "image/png": "[encoded data removed]",
            "text/plain": [
              "<Figure size 432x288 with 1 Axes>"
            ]
          },
          "metadata": {
            "needs_background": "light"
          }
        }
      ]
    },
    {
      "cell_type": "markdown",
      "source": [
        "**Testing the test data**"
      ],
      "metadata": {
        "id": "xZ1vCZBzXr-Y"
      }
    },
    {
      "cell_type": "code",
      "source": [
        "def testing(testcsv):\n",
        "    y_test = pd.read_csv(testcsv)\n",
        "    label = y_test[\"ClassId\"].values\n",
        "    imgs = y_test[\"Path\"].values\n",
        "    data=[]\n",
        "    for img in imgs:\n",
        "        image = Image.open(img)\n",
        "        image = image.resize((30,30))\n",
        "        data.append(np.array(image))\n",
        "    X_test=np.array(data)\n",
        "    return X_test,label\n"
      ],
      "metadata": {
        "id": "Ij9D0tRio9HL"
      },
      "execution_count": null,
      "outputs": []
    },
    {
      "cell_type": "code",
      "source": [
        "X_test, label = testing('Test.csv')\n"
      ],
      "metadata": {
        "id": "v06BgKW9pDOs"
      },
      "execution_count": null,
      "outputs": []
    },
    {
      "cell_type": "code",
      "source": [
        "Y_pred = model.predict_classes(X_test)\n",
        "Y_pred"
      ],
      "metadata": {
        "colab": {
          "base_uri": "https://localhost:8080/"
        },
        "id": "jCypuRtKpEgV",
        "outputId": "abe91177-9d55-4d52-9e8c-ce423376ad46"
      },
      "execution_count": null,
      "outputs": [
        {
          "output_type": "execute_result",
          "data": {
            "text/plain": [
              "array([16,  1, 38, ...,  6,  7, 10])"
            ]
          },
          "metadata": {},
          "execution_count": 12
        }
      ]
    },
    {
      "cell_type": "markdown",
      "source": [
        "**Calculating the accuracy of test data and saving the model**"
      ],
      "metadata": {
        "id": "HPnEYmi0X0M9"
      }
    },
    {
      "cell_type": "code",
      "source": [
        "from sklearn.metrics import accuracy_score\n",
        "acc = accuracy_score(label, Y_pred)\n",
        "print(acc)\n"
      ],
      "metadata": {
        "colab": {
          "base_uri": "https://localhost:8080/"
        },
        "id": "WzM_nvtbpHJk",
        "outputId": "f8500d73-b81c-4802-9def-1052cb56e0e4"
      },
      "execution_count": null,
      "outputs": [
        {
          "output_type": "stream",
          "name": "stdout",
          "text": [
            "0.951464766429137\n"
          ]
        }
      ]
    },
    {
      "cell_type": "code",
      "source": [
        "model.save(\"./training/TSR.h5\")"
      ],
      "metadata": {
        "id": "ZTvPp4KzpJtH"
      },
      "execution_count": null,
      "outputs": []
    },
    {
      "cell_type": "markdown",
      "source": [
        "**Loading the model**"
      ],
      "metadata": {
        "id": "Cq09dhAyYBN7"
      }
    },
    {
      "cell_type": "code",
      "source": [
        "%tensorflow_version 1.5\n",
        "!pip uninstall h5py\n",
        "!pip install h5py==2.10.0"
      ],
      "metadata": {
        "colab": {
          "base_uri": "https://localhost:8080/"
        },
        "id": "YgUraZC9PnjM",
        "outputId": "f328782f-eddf-4b6d-cb14-6003d0ea3186"
      },
      "execution_count": 1,
      "outputs": [
        {
          "output_type": "stream",
          "name": "stdout",
          "text": [
            "`%tensorflow_version` only switches the major version: 1.x or 2.x.\n",
            "You set: `1.5`. This will be interpreted as: `1.x`.\n",
            "\n",
            "\n",
            "TensorFlow 1.x selected.\n",
            "Found existing installation: h5py 3.1.0\n",
            "Uninstalling h5py-3.1.0:\n",
            "  Would remove:\n",
            "    /usr/local/lib/python3.7/dist-packages/h5py-3.1.0.dist-info/*\n",
            "    /usr/local/lib/python3.7/dist-packages/h5py.libs/libaec-9c9e97eb.so.0.0.10\n",
            "    /usr/local/lib/python3.7/dist-packages/h5py.libs/libhdf5-00e8fae8.so.200.0.0\n",
            "    /usr/local/lib/python3.7/dist-packages/h5py.libs/libhdf5_hl-383c339f.so.200.0.0\n",
            "    /usr/local/lib/python3.7/dist-packages/h5py.libs/libsz-e7aa62f5.so.2.0.1\n",
            "    /usr/local/lib/python3.7/dist-packages/h5py.libs/libz-eb09ad1d.so.1.2.3\n",
            "    /usr/local/lib/python3.7/dist-packages/h5py/*\n",
            "Proceed (y/n)? y\n",
            "  Successfully uninstalled h5py-3.1.0\n",
            "Collecting h5py==2.10.0\n",
            "  Downloading h5py-2.10.0-cp37-cp37m-manylinux1_x86_64.whl (2.9 MB)\n",
            "\u001b[K     |████████████████████████████████| 2.9 MB 8.4 MB/s \n",
            "\u001b[?25hRequirement already satisfied: six in /usr/local/lib/python3.7/dist-packages (from h5py==2.10.0) (1.15.0)\n",
            "Requirement already satisfied: numpy>=1.7 in /usr/local/lib/python3.7/dist-packages (from h5py==2.10.0) (1.19.5)\n",
            "Installing collected packages: h5py\n",
            "Successfully installed h5py-2.10.0\n"
          ]
        }
      ]
    },
    {
      "cell_type": "code",
      "source": [
        "import os\n",
        "os.chdir(r'/content/drive/MyDrive/Traffic_Sign_Recognition')\n",
        "from keras.models import load_model\n",
        "model = load_model('./training/TSR.h5')\n"
      ],
      "metadata": {
        "colab": {
          "base_uri": "https://localhost:8080/"
        },
        "id": "yvaszFFApLpa",
        "outputId": "eff78198-6a73-4494-c410-388f02f3107c"
      },
      "execution_count": 2,
      "outputs": [
        {
          "output_type": "stream",
          "name": "stderr",
          "text": [
            "Using TensorFlow backend.\n"
          ]
        },
        {
          "output_type": "stream",
          "name": "stdout",
          "text": [
            "WARNING:tensorflow:From /tensorflow-1.15.2/python3.7/tensorflow_core/python/ops/resource_variable_ops.py:1630: calling BaseResourceVariable.__init__ (from tensorflow.python.ops.resource_variable_ops) with constraint is deprecated and will be removed in a future version.\n",
            "Instructions for updating:\n",
            "If using Keras pass *_constraint arguments to layers.\n",
            "WARNING:tensorflow:From /tensorflow-1.15.2/python3.7/keras/backend/tensorflow_backend.py:4070: The name tf.nn.max_pool is deprecated. Please use tf.nn.max_pool2d instead.\n",
            "\n",
            "WARNING:tensorflow:From /tensorflow-1.15.2/python3.7/keras/backend/tensorflow_backend.py:422: The name tf.global_variables is deprecated. Please use tf.compat.v1.global_variables instead.\n",
            "\n"
          ]
        }
      ]
    },
    {
      "cell_type": "markdown",
      "source": [
        "**Defining the Classes of Traffic Signs**"
      ],
      "metadata": {
        "id": "5qpdqOxoYJKw"
      }
    },
    {
      "cell_type": "code",
      "source": [
        "classes = { 0:'Speed limit (20km/h)',\n",
        "            1:'Speed limit (30km/h)', \n",
        "            2:'Speed limit (50km/h)', \n",
        "            3:'Speed limit (60km/h)', \n",
        "            4:'Speed limit (70km/h)', \n",
        "            5:'Speed limit (80km/h)', \n",
        "            6:'End of speed limit (80km/h)', \n",
        "            7:'Speed limit (100km/h)', \n",
        "            8:'Speed limit (120km/h)', \n",
        "            9:'No passing', \n",
        "            10:'No passing veh over 3.5 tons', \n",
        "            11:'Right-of-way at intersection', \n",
        "            12:'Priority road', \n",
        "            13:'Yield', \n",
        "            14:'Stop', \n",
        "            15:'No vehicles', \n",
        "            16:'Veh > 3.5 tons prohibited', \n",
        "            17:'No entry', \n",
        "            18:'General caution', \n",
        "            19:'Dangerous curve left', \n",
        "            20:'Dangerous curve right', \n",
        "            21:'Double curve', \n",
        "            22:'Bumpy road', \n",
        "            23:'Slippery road', \n",
        "            24:'Road narrows on the right', \n",
        "            25:'Road work', \n",
        "            26:'Traffic signals', \n",
        "            27:'Pedestrians', \n",
        "            28:'Children crossing', \n",
        "            29:'Bicycles crossing', \n",
        "            30:'Beware of ice/snow',\n",
        "            31:'Wild animals crossing', \n",
        "            32:'End speed + passing limits', \n",
        "            33:'Turn right ahead', \n",
        "            34:'Turn left ahead', \n",
        "            35:'Ahead only', \n",
        "            36:'Go straight or right', \n",
        "            37:'Go straight or left', \n",
        "            38:'Keep right', \n",
        "            39:'Keep left', \n",
        "            40:'Roundabout mandatory', \n",
        "            41:'End of no passing', \n",
        "            42:'End no passing veh > 3.5 tons' }"
      ],
      "metadata": {
        "id": "jNdU31ubpRps"
      },
      "execution_count": 3,
      "outputs": []
    },
    {
      "cell_type": "markdown",
      "source": [
        "**Importing images we need for the prediction**"
      ],
      "metadata": {
        "id": "Uoq7D9frYcFO"
      }
    },
    {
      "cell_type": "code",
      "source": [
        "from PIL import Image\n",
        "import numpy as np\n",
        "import matplotlib.pyplot as plt\n",
        "def test_on_img(img):\n",
        "    data=[]\n",
        "    image = Image.open(img)\n",
        "    image = image.resize((30,30))\n",
        "    data.append(np.array(image))\n",
        "    X_test=np.array(data)\n",
        "    Y_pred = model.predict_classes(X_test)\n",
        "    return image,Y_pred\n"
      ],
      "metadata": {
        "id": "XNwf1u2vpb8o"
      },
      "execution_count": 4,
      "outputs": []
    },
    {
      "cell_type": "markdown",
      "source": [
        "**Performing prediction on an image**"
      ],
      "metadata": {
        "id": "ErvybtMMYdSt"
      }
    },
    {
      "cell_type": "code",
      "source": [
        "plot,prediction = test_on_img(r'/content/drive/MyDrive/Traffic_Sign_Recognition/Test/00595.png')\n",
        "s = [str(i) for i in prediction] \n",
        "a = int(\"\".join(s)) \n",
        "print(\"Predicted traffic sign is: \", classes[a])\n",
        "plt.imshow(plot)\n",
        "plt.show()"
      ],
      "metadata": {
        "id": "gnTzV8YKs41-",
        "colab": {
          "base_uri": "https://localhost:8080/",
          "height": 283
        },
        "outputId": "6cbf7293-9b0a-4d24-d590-db079cde7a15"
      },
      "execution_count": 5,
      "outputs": [
        {
          "output_type": "stream",
          "name": "stdout",
          "text": [
            "Predicted traffic sign is:  Speed limit (60km/h)\n"
          ]
        },
        {
          "output_type": "display_data",
          "data": {
            "image/png": "[encoded data removed]",
            "text/plain": [
              "<Figure size 432x288 with 1 Axes>"
            ]
          },
          "metadata": {
            "needs_background": "light"
          }
        }
      ]
    }
  ]
}